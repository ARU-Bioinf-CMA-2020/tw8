{
 "cells": [
  {
   "cell_type": "markdown",
   "metadata": {},
   "source": [
    "# Using Biopython to produce Phylogenetic trees from Multiple Sequence Alignments\n",
    "\n",
    "This notebook shows the steps of creating a 'distance matrix' from a multiple sequence alignment and producing a phylogenetic tree from that. \n",
    "\n",
    "The example sequences used are tRNA sequences from the human reference genome. There is an introduction to the sequences further down this notebook. "
   ]
  },
  {
   "cell_type": "markdown",
   "metadata": {},
   "source": [
    "## setup\n",
    "Run this set-up cell."
   ]
  },
  {
   "cell_type": "code",
   "execution_count": null,
   "metadata": {},
   "outputs": [],
   "source": [
    "import copy\n",
    "from io import StringIO\n",
    "%matplotlib inline"
   ]
  },
  {
   "cell_type": "markdown",
   "metadata": {},
   "source": [
    "We need to have Biopython installed and available, so lets check:"
   ]
  },
  {
   "cell_type": "code",
   "execution_count": null,
   "metadata": {},
   "outputs": [],
   "source": [
    "# import the Phylogeny class from BioPython to check it works\n",
    "try:\n",
    "    from Bio import Phylo\n",
    "    print('Success Biopython import works')\n",
    "except ImportError:\n",
    "    print('ERROR Biopython not available you will need to install it')"
   ]
  },
  {
   "cell_type": "markdown",
   "metadata": {},
   "source": [
    "If you use conda it is easy to install Biopython by \n",
    "```\n",
    "conda install biopython\n",
    "```\n",
    "or it can be installed using pip\n",
    "```\n",
    "pip install biopython\n",
    "```"
   ]
  },
  {
   "cell_type": "code",
   "execution_count": null,
   "metadata": {},
   "outputs": [],
   "source": [
    "# this cell will try a conda install of biopython\n",
    "# it should work on azure\n",
    "# https://notebooks.azure.com/help/jupyter-notebooks/package-installation\n",
    "try:\n",
    "    from Bio import Phylo\n",
    "except ImportError:\n",
    "    !conda install biopython -y"
   ]
  },
  {
   "cell_type": "code",
   "execution_count": null,
   "metadata": {},
   "outputs": [],
   "source": [
    "# run this cell for the  the Biopython imports we will use.\n",
    "from Bio.Phylo.TreeConstruction import DistanceCalculator\n",
    "from Bio.Phylo.TreeConstruction import *\n",
    "from Bio import AlignIO"
   ]
  },
  {
   "cell_type": "markdown",
   "metadata": {},
   "source": [
    "## Thr tRNA example sequence alignment\n",
    "\n",
    "Transfer RNA is a very important class of macromolecules - tRNAs transfer amino acids to the growing protein polypeptide chain at the active site of the ribosome. By recognizing the codon (three-nucleotide 'word' )in the messenger RNA they ensure that the amino-acid coded by that is added. \n",
    "\n",
    "The correct amino acid is attached to the transfer-RNA by a specialized enzyme called an amino-acyl tRNA synthetase.\n",
    "\n",
    "You know that there are more than one codon for some amino acids. For example Thr threonine is specified by three codons in the standard genetic code: ACU, ACC, ACA, and ACG. The final position is not important in the code as any nucleotide would apparently give Thr. This is called the 'wobble' base. \n",
    "\n",
    "There are only three classes of Thr tRNAs in humans for ACA (AGT), ACG (CGT), and ACA (TGT) (where the second sequence is the anticodon - the reverse complement of the codon). The final expected tRNA for ACC (GGT) does not occur and this codon is read by one of the others using non-standard base pairing at the 'wobble' position. \n",
    "\n",
    "Because tRNA is needed in large amounts there are multiple copies of tRNA genes in most organisms. In humans there is a total of 400 or so and they are scattered around the genome. \n",
    "\n",
    "There are 20 tRNA Thr genes in the human reference genome. The alignment here is of just 6 representative ones covering the three classes (prepared using the MUSCLE multiple alignment program).\n",
    "\n",
    "The sequences here are the mature sequences of the RNAs. Remember that the Thymidine nucleotide (base Thymine) in the gene sequence is replaced with Uridine (base Uracil) in the final molecule. There are also many crucial modified bases in mature tRNAs but we are ignoring these complications.\n",
    "\n",
    "Read in the example file human-Thr-tRNA-mature-examples.afa"
   ]
  },
  {
   "cell_type": "code",
   "execution_count": null,
   "metadata": {},
   "outputs": [],
   "source": [
    "aln = AlignIO.read('human-Thr-tRNA-mature-examples.afa', 'fasta')"
   ]
  },
  {
   "cell_type": "code",
   "execution_count": null,
   "metadata": {},
   "outputs": [],
   "source": [
    "print(aln)"
   ]
  },
  {
   "cell_type": "code",
   "execution_count": null,
   "metadata": {},
   "outputs": [],
   "source": [
    "calculator = DistanceCalculator('identity')"
   ]
  },
  {
   "cell_type": "markdown",
   "metadata": {},
   "source": [
    "Here the distance calculator is set up to use a simple identity comparison among the sequences. You can maybe see that there are not very many differences among the sequences. This is because they are all from humans and need to function with the same enzymes to accept the amino acid.\n",
    "\n",
    "Unlike the previous similarity calculations using identity, here the identity is being used to highlight differences between the sequences as these can be used directly as distances. The identity calculation is expressed as a fractional difference over all the columns in common to the sequences. \n",
    "\n",
    "After the calculator is created with the model, simply use the get_distance() method to get the distance matrix of a given alignment object. Then you will get a DistanceMatrix object."
   ]
  },
  {
   "cell_type": "code",
   "execution_count": null,
   "metadata": {},
   "outputs": [],
   "source": [
    "dm = calculator.get_distance(aln)\n",
    "print(dm)"
   ]
  },
  {
   "cell_type": "markdown",
   "metadata": {},
   "source": [
    "Remember that distance-based methods were just one of the approaches to constructing a phylogenetic tree from a set of aligned sequences.\n",
    "\n",
    "Check back to see what the other two approaches were called. \n",
    "\n",
    "Within the group of distance-based methods there were a number of different algorithms for creating a tree.\n",
    "\n",
    "The Biopython Phylo module has a DistanceTreeConstructor. This can use either the neighbour-joining (nj) or unweighted pair group method (upgma). The method to be applied is given as a string parameter."
   ]
  },
  {
   "cell_type": "code",
   "execution_count": null,
   "metadata": {},
   "outputs": [],
   "source": [
    "constructor = DistanceTreeConstructor(calculator, 'upgma')"
   ]
  },
  {
   "cell_type": "code",
   "execution_count": null,
   "metadata": {},
   "outputs": [],
   "source": [
    "tree = constructor.build_tree(aln)"
   ]
  },
  {
   "cell_type": "markdown",
   "metadata": {},
   "source": [
    "The UPGMA algorithm should give a rooted tree. The NJ algorithm would give an unrooted tree. \n",
    "\n",
    "The Phylo module has a hierarchical Tree object that uses the phylogenetic term 'Clade' for groups.\n",
    "\n",
    "It takes the sequence names as the labels of the 'leaf' nodes of the tree.\n",
    "\n",
    "The tree also has branching nodes - inner nodes - which are given default names by the constructor."
   ]
  },
  {
   "cell_type": "code",
   "execution_count": null,
   "metadata": {},
   "outputs": [],
   "source": [
    "print(tree)"
   ]
  },
  {
   "cell_type": "markdown",
   "metadata": {},
   "source": [
    "The module has a simple ascii method for representing the tree across the output window. "
   ]
  },
  {
   "cell_type": "code",
   "execution_count": null,
   "metadata": {},
   "outputs": [],
   "source": [
    "Phylo.draw_ascii(tree)"
   ]
  },
  {
   "cell_type": "markdown",
   "metadata": {},
   "source": [
    "There is also a nicer graphic view available. "
   ]
  },
  {
   "cell_type": "code",
   "execution_count": null,
   "metadata": {},
   "outputs": [],
   "source": [
    "Phylo.draw(tree)"
   ]
  },
  {
   "cell_type": "markdown",
   "metadata": {},
   "source": [
    "Looking at the anticodon labels for these tRNA groupings, do you notice anything interesting? "
   ]
  },
  {
   "cell_type": "markdown",
   "metadata": {},
   "source": [
    "## student exercise\n",
    "\n",
    "recalculate the tree above using the neighbour-joining (nj) method and produce a nice graphic from this."
   ]
  },
  {
   "cell_type": "code",
   "execution_count": null,
   "metadata": {},
   "outputs": [],
   "source": [
    "# your job write python to draw a tree for the tRNA alignment using neighbour-joining"
   ]
  },
  {
   "cell_type": "markdown",
   "metadata": {},
   "source": [
    "## Student exercise\n",
    "\n",
    "\n",
    "Myoglobin is an oxygen binding protein that is found in vertebrate muscle https://en.wikipedia.org/wiki/Myoglobin\n",
    "\n",
    "In this exercise we will create a multiple sequence alignment of a number of myoglobins from different species.\n",
    "\n",
    "To start we some myoglobin sequences to align. Here are 6 myoglobins from mammals, fish and a shark in FASTA format:\n",
    "\n",
    "```\n",
    ">MyG_human\n",
    "GLSDGEWQLVLNVWGKVEADIPGHGQEVLIRLFKGHPETL\n",
    "EKFDKFKHLKSEDEMKASEDLKKHGATVLTALGGILKKKG\n",
    "HHEAEIKPLAQSHATKHKIPVKYLEFISECIIQVLQSKHP\n",
    "GDFGADAQGAMNKALELFRKDMASNYKELGFQG\n",
    ">MyG_whale\n",
    "VLSEGEWQLVLHVWAKVEADVAGHGQDILIRLFKSHPETLEKFDRFKHLKTEAEMKASED\n",
    "LKKHGVTVLTALGAILKKKGHHEAELKPLAQSHATKHKIPIKYLEFISEAIIHVLHSRHP\n",
    "GDFGADAQGAMNKALELFRKDIAAKYKELGYQG\n",
    ">MyG_platypus\n",
    "GLSDGEWQLVLKVWGKVEGDLPGHGQEVLIRLFKTHPETLEKFDKFKGLKTEDEMKASAD\n",
    "LKKHGGTVLTALGNILKKKGQHEAELKPLAQSHATKHKISIKFLEYISEAIIHVLQSKHS\n",
    "ADFGADAQAAMGKALELFRNDMAAKYKEFGFQG\n",
    ">MyG_gummyshark\n",
    "VDWEKVNSVWSAVESDLTAIGQNILLRLFEQYPESQNHFPKFKNKSLGELKDTADIKAQA\n",
    "DTVLSALGNIVKKKGSHSQPVKALAATHITTHKIPPHYFTKITTIAVDVLSEMYPSEMNA\n",
    "QVQAAFSGAFKIICSDIEKEYKAANFQG\n",
    ">MyG_Bluemarlin\n",
    "MADFEMVLKHWGPVEADYATHGNLVLTRLFTEHPETQKLFPKFAGIAKADMAGNAAISAH\n",
    "GATVLKKLGELLKAKGSHAAIIKPMANSHATKHKIPIKNFELISEVIGKVMHEKAGLDAA\n",
    "GQKALKNVMTTIIADIEANYKELGFTG\n",
    ">MyG_tuna\n",
    "MADLDAVLKCWGAVEADFNTVGGLVLARLFKDHPETQKLFPKFAGITGDIAGNAAVAAHG\n",
    "ATVLKKLGELLKAKGNHAAIIKPLANSHAKQHKIPINNFKLITEALAHVLHEKAGLDAAG\n",
    "QTALRNVMGIVIADLEANYKELGFTG\n",
    "```\n",
    "\n",
    "**Your first task (a)** is to add the sequences for the myoglobins from `horse` and `carp`. Find the *protein sequences* at EBI https://www.ebi.ac.uk/ by search for `horse myoglobin` and add them to the fasta records in the next cell:"
   ]
  },
  {
   "cell_type": "raw",
   "metadata": {},
   "source": [
    "# task (a) add the sequences (in fasta format for horse and goldfish - removing this line).\n",
    ">MyG_human\n",
    "GLSDGEWQLVLNVWGKVEADIPGHGQEVLIRLFKGHPETL\n",
    "EKFDKFKHLKSEDEMKASEDLKKHGATVLTALGGILKKKG\n",
    "HHEAEIKPLAQSHATKHKIPVKYLEFISECIIQVLQSKHP\n",
    "GDFGADAQGAMNKALELFRKDMASNYKELGFQG\n",
    ">MyG_whale\n",
    "VLSEGEWQLVLHVWAKVEADVAGHGQDILIRLFKSHPETLEKFDRFKHLKTEAEMKASED\n",
    "LKKHGVTVLTALGAILKKKGHHEAELKPLAQSHATKHKIPIKYLEFISEAIIHVLHSRHP\n",
    "GDFGADAQGAMNKALELFRKDIAAKYKELGYQG\n",
    ">MyG_platypus\n",
    "GLSDGEWQLVLKVWGKVEGDLPGHGQEVLIRLFKTHPETLEKFDKFKGLKTEDEMKASAD\n",
    "LKKHGGTVLTALGNILKKKGQHEAELKPLAQSHATKHKISIKFLEYISEAIIHVLQSKHS\n",
    "ADFGADAQAAMGKALELFRNDMAAKYKEFGFQG\n",
    ">MyG_gummyshark\n",
    "VDWEKVNSVWSAVESDLTAIGQNILLRLFEQYPESQNHFPKFKNKSLGELKDTADIKAQA\n",
    "DTVLSALGNIVKKKGSHSQPVKALAATHITTHKIPPHYFTKITTIAVDVLSEMYPSEMNA\n",
    "QVQAAFSGAFKIICSDIEKEYKAANFQG\n",
    ">MyG_Bluemarlin\n",
    "MADFEMVLKHWGPVEADYATHGNLVLTRLFTEHPETQKLFPKFAGIAKADMAGNAAISAH\n",
    "GATVLKKLGELLKAKGSHAAIIKPMANSHATKHKIPIKNFELISEVIGKVMHEKAGLDAA\n",
    "GQKALKNVMTTIIADIEANYKELGFTG\n",
    ">MyG_tuna\n",
    "MADLDAVLKCWGAVEADFNTVGGLVLARLFKDHPETQKLFPKFAGITGDIAGNAAVAAHG\n",
    "ATVLKKLGELLKAKGNHAAIIKPLANSHAKQHKIPINNFKLITEALAHVLHEKAGLDAAG\n",
    "QTALRNVMGIVIADLEANYKELGFTG"
   ]
  },
  {
   "cell_type": "markdown",
   "metadata": {},
   "source": [
    "## Task (b): create multiple sequence alignment for myoglobins using MUSCLE\n",
    "\n",
    "Using the selected myoglobin sequences we have assembled above use the MUSCLE multiple sequence program.\n",
    "You can install this on your laptop if you want but it is easier to use the EBI server:\n",
    "\n",
    "https://www.ebi.ac.uk/Tools/msa/muscle/\n",
    "\n",
    "Paste your myoglobin sequences. And leave everything as a default.\n",
    "\n",
    "Once the server has run hit the `Download Alignment file` and then copy the CLUSTAL format \n",
    "alignment into the next Jupyter notebook cell:"
   ]
  },
  {
   "cell_type": "code",
   "execution_count": null,
   "metadata": {},
   "outputs": [],
   "source": [
    "# edit this cell for your alignment - replacing this cutdown example with you bigger alignment\n",
    "myg_align_string = \"\"\"CLUSTAL multiple sequence alignment by MUSCLE (3.8)\n",
    "\n",
    "\n",
    "MyG_human         GLSDGEWQLVLNVWGKVEADIPGHGQEVLIRLFKGHPETLEKFDKFKHLKSEDEMKASED\n",
    "MyG_whale         VLSEGEWQLVLHVWAKVEADVAGHGQDILIRLFKSHPETLEKFDRFKHLKTEAEMKASED\n",
    "MyG_platypus      GLSDGEWQLVLKVWGKVEGDLPGHGQEVLIRLFKTHPETLEKFDKFKGLKTEDEMKASAD\n",
    "                   **:*******:**.***.*:.****::****** *********.** **:* ***** *\n",
    "\n",
    "MyG_human         LKKHGATVLTALGGILKKKGHHEAEIKPLAQSHATKHKIPVKYLEFISECIIQVLQSKHP\n",
    "MyG_whale         LKKHGVTVLTALGAILKKKGHHEAELKPLAQSHATKHKIPIKYLEFISEAIIHVLHSRHP\n",
    "MyG_platypus      LKKHGGTVLTALGNILKKKGQHEAELKPLAQSHATKHKISIKFLEYISEAIIHVLQSKHS\n",
    "                  ***** ******* ******:****:*************.:*:**:***.**:**:*.*.\n",
    "\n",
    "MyG_human         GDFGADAQGAMNKALELFRKDMASNYKELGFQG\n",
    "MyG_whale         GDFGADAQGAMNKALELFRKDIAAKYKELGYQG\n",
    "MyG_platypus      ADFGADAQAAMGKALELFRNDMAAKYKEFGFQG\n",
    "                  .*******.**.*******:*:*::***:*:**\n",
    "\"\"\""
   ]
  },
  {
   "cell_type": "markdown",
   "metadata": {},
   "source": [
    "Rather than storing the MUSCLE alignment result as a disk file and reading from the file, it is easiest to keep the data as a string within this notebook. This can be done using a Python library called StringIO., see https://stackoverflow.com/a/38374360"
   ]
  },
  {
   "cell_type": "code",
   "execution_count": null,
   "metadata": {},
   "outputs": [],
   "source": [
    "# run this cell to read your alignment into Biopython AlignIO\n",
    "from io import StringIO\n",
    "myg_align_io = StringIO(myg_align_string)\n",
    "myg_aln = AlignIO.read(myg_align_io, format=\"clustal\")\n",
    "myg_align_io.close()\n",
    "print(myg_aln)"
   ]
  },
  {
   "cell_type": "markdown",
   "metadata": {},
   "source": [
    "## Task (c): create a phylogenetic tree \n",
    "Using code from above draw a phylogenetic tree from the alignment using the `upgma` method."
   ]
  },
  {
   "cell_type": "markdown",
   "metadata": {},
   "source": [
    "## Task (d) is the unknown sequence a mammalian or fish myoglobin?\n",
    "\n",
    "Here is a myglobin sequence from an animal (may be a seal) that washed up in Norfolk. It was too degraded for DNA analysis but a myoglobin protein sequence was obtained:\n",
    "```\n",
    ">unknown\n",
    "MADYDLVLRCWGPVEADYNTHGGLVLTRLFTEHPDTQKLFPKLAGVGELAASVAVASHGA\n",
    "TVLKKLGELLKTRGDHAALLKPLATSHANVHKIPINNFKLITEVIAKHMAEKAGLDAAGQ\n",
    "EALRKVMSVVIADMDATYKELGFSG\n",
    "```\n",
    "Construct a phylogenetic tree comparing unknown and other sequences. Is the sequence from a seal?"
   ]
  },
  {
   "cell_type": "code",
   "execution_count": null,
   "metadata": {},
   "outputs": [],
   "source": [
    "# construct a phy phylogenetic tree comparing unknown and other sequences."
   ]
  },
  {
   "cell_type": "markdown",
   "metadata": {},
   "source": [
    "## Is the sequence from a seal?\n",
    "\n",
    "*Your answer*"
   ]
  },
  {
   "cell_type": "markdown",
   "metadata": {},
   "source": [
    "## Task (e) BLAST the unknown sequence \n",
    "\n",
    "Using https://www.ebi.ac.uk/Tools/sss/ncbiblast/ What is the top BLAST hit for the unknown sequence in the full UniProt Knowledgebase?"
   ]
  },
  {
   "cell_type": "markdown",
   "metadata": {},
   "source": [
    "## What is the top BLAST hit for the unknown sequence?\n",
    "\n",
    "*Your answer*"
   ]
  },
  {
   "cell_type": "markdown",
   "metadata": {},
   "source": [
    "Background reading *Myoglobin as a Molecular Marker for Phylogenetic Relationships of Fish* https://doi.org//10.17265/2161-6264/2018.02.007"
   ]
  },
  {
   "cell_type": "code",
   "execution_count": null,
   "metadata": {},
   "outputs": [],
   "source": []
  }
 ],
 "metadata": {
  "kernelspec": {
   "display_name": "Python 3",
   "language": "python",
   "name": "python3"
  },
  "language_info": {
   "codemirror_mode": {
    "name": "ipython",
    "version": 3
   },
   "file_extension": ".py",
   "mimetype": "text/x-python",
   "name": "python",
   "nbconvert_exporter": "python",
   "pygments_lexer": "ipython3",
   "version": "3.7.1"
  }
 },
 "nbformat": 4,
 "nbformat_minor": 2
}
