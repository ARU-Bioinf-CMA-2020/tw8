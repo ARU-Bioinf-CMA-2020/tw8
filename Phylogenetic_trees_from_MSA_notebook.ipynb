{
 "cells": [
  {
   "cell_type": "markdown",
   "metadata": {},
   "source": [
    "## Using Biopython to produce Phylogenetic trees from Multiple Sequence Alignments\n",
    "\n",
    "This notebook shows the steps of creating a 'distance matrix' from a multiple sequence alignment and producing a phylogenetic tree from that. \n",
    "\n",
    "The example sequences used are tRNA sequences from the human reference genome. There is an introduction to the sequences further down this notebook. "
   ]
  },
  {
   "cell_type": "markdown",
   "metadata": {},
   "source": [
    "## setup\n",
    "Run this set-up cell."
   ]
  },
  {
   "cell_type": "code",
   "execution_count": 2,
   "metadata": {},
   "outputs": [],
   "source": [
    "import copy\n",
    "from io import StringIO\n",
    "%matplotlib inline"
   ]
  },
  {
   "cell_type": "markdown",
   "metadata": {},
   "source": [
    "We need to have Biopython installed and available, so lets check:"
   ]
  },
  {
   "cell_type": "code",
   "execution_count": 4,
   "metadata": {},
   "outputs": [
    {
     "name": "stdout",
     "output_type": "stream",
     "text": [
      "Success Biopython import works\n"
     ]
    }
   ],
   "source": [
    "# import the Phylogeny class from BioPython to check it works\n",
    "try:\n",
    "    from Bio import Phylo\n",
    "    print('Success Biopython import works')\n",
    "except ModuleNotFoundError:\n",
    "    print('ERROR Biopython not available you will need to install it')"
   ]
  },
  {
   "cell_type": "markdown",
   "metadata": {},
   "source": [
    "If you use conda it is easy to install Biopython by \n",
    "```\n",
    "conda install biopython\n",
    "```\n",
    "or it can be installed using pip\n",
    "```\n",
    "pip install biopython\n",
    "```"
   ]
  },
  {
   "cell_type": "code",
   "execution_count": 20,
   "metadata": {},
   "outputs": [],
   "source": [
    "# this cell will try a conda install of biopython\n",
    "# it should work on azure\n",
    "# https://notebooks.azure.com/help/jupyter-notebooks/package-installation\n",
    "try:\n",
    "    from Bio import Phylo\n",
    "except ModuleNotFoundError:\n",
    "    !conda install biopython -y"
   ]
  },
  {
   "cell_type": "code",
   "execution_count": 7,
   "metadata": {},
   "outputs": [],
   "source": [
    "# run this cell for the  the Biopython imports we will use.\n",
    "from Bio.Phylo.TreeConstruction import DistanceCalculator\n",
    "from Bio.Phylo.TreeConstruction import *\n",
    "from Bio import AlignIO"
   ]
  },
  {
   "cell_type": "markdown",
   "metadata": {},
   "source": [
    "## Thr tRNA example sequence alignment\n",
    "\n",
    "Transfer RNA is a very important class of macromolecules - tRNAs transfer amino acids to the growing protein polypeptide chain at the active site of the ribosome. By recognizing the codon (three-nucleotide 'word' )in the messenger RNA they ensure that the amino-acid coded by that is added. \n",
    "\n",
    "The correct amino acid is attached to the transfer-RNA by a specialized enzyme called an amino-acyl tRNA synthetase.\n",
    "\n",
    "You know that there are more than one codon for some amino acids. For example Thr threonine is specified by three codons in the standard genetic code: ACU, ACC, ACA, and ACG. The final position is not important in the code as any nucleotide would apparently give Thr. This is called the 'wobble' base. \n",
    "\n",
    "There are only three classes of Thr tRNAs in humans for ACA (AGT), ACG (CGT), and ACA (TGT) (where the second sequence is the anticodon - the reverse complement of the codon). The final expected tRNA for ACC (GGT) does not occur and this codon is read by one of the others using non-standard base pairing at the 'wobble' position. \n",
    "\n",
    "Because tRNA is needed in large amounts there are multiple copies of tRNA genes in most organisms. In humans there is a total of 400 or so and they are scattered around the genome. \n",
    "\n",
    "There are 20 tRNA Thr genes in the human reference genome. The alignment here is of just 6 representative ones covering the three classes (prepared using the MUSCLE multiple alignment program).\n",
    "\n",
    "The sequences here are the mature sequences of the RNAs. Remember that the Thymidine nucleotide (base Thymine) in the gene sequence is replaced with Uridine (base Uracil) in the final molecule. There are also many crucial modified bases in mature tRNAs but we are ignoring these complications.\n",
    "\n",
    "Read in the example file human-Thr-tRNA-mature-examples.afa"
   ]
  },
  {
   "cell_type": "code",
   "execution_count": 8,
   "metadata": {},
   "outputs": [],
   "source": [
    "aln = AlignIO.read('human-Thr-tRNA-mature-examples.afa', 'fasta')"
   ]
  },
  {
   "cell_type": "code",
   "execution_count": 9,
   "metadata": {},
   "outputs": [
    {
     "name": "stdout",
     "output_type": "stream",
     "text": [
      "SingleLetterAlphabet() alignment with 6 rows and 74 columns\n",
      "GGCUCCGUAGCUUAGUUGGUUAAAGCGCCUGUCUAGUAAACAGG...CCU h_tRNA-Thr-AGT-3-1\n",
      "GGCUCUAUGGCUUAGUUGGUUAAAGCGCCUGUCUCGUAAACAGG...CCU h_tRNA-Thr-CGT-1-1\n",
      "GGCUCUAUGGCUUAGUUGGUUAAAGCGCCUGUCUUGUAAACAGG...CCU h_tRNA-Thr-TGT-1-1\n",
      "GGCUCCAUAGCUCAG-UGGUUAGAGCACUGGUCUUGUAAACCAG...CCU h_tRNA-Thr-TGT-2-1\n",
      "GGCUCCAUAGCUCAG-GGGUUAGAGCGCUGGUCUUGUAAACCAG...CCU h_tRNA-Thr-TGT-3-1\n",
      "GGCUCCAUAGCUCAG-GGGUUAGAGCACUGGUCUUGUAAACCAG...CCU h_tRNA-Thr-TGT-4-1\n"
     ]
    }
   ],
   "source": [
    "print(aln)"
   ]
  },
  {
   "cell_type": "code",
   "execution_count": 10,
   "metadata": {},
   "outputs": [],
   "source": [
    "calculator = DistanceCalculator('identity')"
   ]
  },
  {
   "cell_type": "markdown",
   "metadata": {},
   "source": [
    "Here the distance calculator is set up to use a simple identity comparison among the sequences. You can maybe see that there are not very many differences among the sequences. This is because they are all from humans and need to function with the same enzymes to accept the amino acid.\n",
    "\n",
    "Unlike the previous similarity calculations using identity, here the identity is being used to highlight differences between the sequences as these can be used directly as distances. The identity calculation is expressed as a fractional difference over all the columns in common to the sequences. \n",
    "\n",
    "After the calculator is created with the model, simply use the get_distance() method to get the distance matrix of a given alignment object. Then you will get a DistanceMatrix object."
   ]
  },
  {
   "cell_type": "code",
   "execution_count": 11,
   "metadata": {},
   "outputs": [],
   "source": [
    "dm = calculator.get_distance(aln)"
   ]
  },
  {
   "cell_type": "code",
   "execution_count": 12,
   "metadata": {},
   "outputs": [
    {
     "data": {
      "text/plain": [
       "DistanceMatrix(names=['h_tRNA-Thr-AGT-3-1', 'h_tRNA-Thr-CGT-1-1', 'h_tRNA-Thr-TGT-1-1', 'h_tRNA-Thr-TGT-2-1', 'h_tRNA-Thr-TGT-3-1', 'h_tRNA-Thr-TGT-4-1'], matrix=[[0], [0.06756756756756754, 0], [0.10810810810810811, 0.05405405405405406, 0], [0.28378378378378377, 0.28378378378378377, 0.29729729729729726, 0], [0.28378378378378377, 0.28378378378378377, 0.29729729729729726, 0.05405405405405406, 0], [0.29729729729729726, 0.29729729729729726, 0.29729729729729726, 0.05405405405405406, 0.027027027027026973, 0]])"
      ]
     },
     "execution_count": 12,
     "metadata": {},
     "output_type": "execute_result"
    }
   ],
   "source": [
    "dm"
   ]
  },
  {
   "cell_type": "code",
   "execution_count": 13,
   "metadata": {},
   "outputs": [
    {
     "name": "stdout",
     "output_type": "stream",
     "text": [
      "h_tRNA-Thr-AGT-3-1\t0\n",
      "h_tRNA-Thr-CGT-1-1\t0.06756756756756754\t0\n",
      "h_tRNA-Thr-TGT-1-1\t0.10810810810810811\t0.05405405405405406\t0\n",
      "h_tRNA-Thr-TGT-2-1\t0.28378378378378377\t0.28378378378378377\t0.29729729729729726\t0\n",
      "h_tRNA-Thr-TGT-3-1\t0.28378378378378377\t0.28378378378378377\t0.29729729729729726\t0.05405405405405406\t0\n",
      "h_tRNA-Thr-TGT-4-1\t0.29729729729729726\t0.29729729729729726\t0.29729729729729726\t0.05405405405405406\t0.027027027027026973\t0\n",
      "\th_tRNA-Thr-AGT-3-1\th_tRNA-Thr-CGT-1-1\th_tRNA-Thr-TGT-1-1\th_tRNA-Thr-TGT-2-1\th_tRNA-Thr-TGT-3-1\th_tRNA-Thr-TGT-4-1\n"
     ]
    }
   ],
   "source": [
    "print(dm)"
   ]
  },
  {
   "cell_type": "markdown",
   "metadata": {},
   "source": [
    "Remember that distance-based methods were just one of the approaches to constructing a phylogenetic tree from a set of aligned sequences.\n",
    "\n",
    "Check back to see what the other two approaches were called. \n",
    "\n",
    "Within the group of distance-based methods there were a number of different algorithms for creating a tree.\n",
    "\n",
    "The Biopython Phylo module has a DistanceTreeConstructor. This can use either the neighbour-joining (nj) or unweighted pair group method (upgma). The method to be applied is given as a string parameter."
   ]
  },
  {
   "cell_type": "code",
   "execution_count": 14,
   "metadata": {},
   "outputs": [],
   "source": [
    "constructor = DistanceTreeConstructor(calculator, 'upgma')"
   ]
  },
  {
   "cell_type": "code",
   "execution_count": 15,
   "metadata": {},
   "outputs": [],
   "source": [
    "tree = constructor.build_tree(aln)"
   ]
  },
  {
   "cell_type": "markdown",
   "metadata": {},
   "source": [
    "The UPGMA algorithm should give a rooted tree. The NJ algorithm would give an unrooted tree. \n",
    "\n",
    "The Phylo module has a hierarchical Tree object that uses the phylogenetic term 'Clade' for groups.\n",
    "\n",
    "It takes the sequence names as the labels of the 'leaf' nodes of the tree.\n",
    "\n",
    "The tree also has branching nodes - inner nodes - which are given default names by the constructor."
   ]
  },
  {
   "cell_type": "code",
   "execution_count": 16,
   "metadata": {},
   "outputs": [
    {
     "name": "stdout",
     "output_type": "stream",
     "text": [
      "Tree(rooted=True)\n",
      "    Clade(branch_length=0, name='Inner5')\n",
      "        Clade(branch_length=0.11782094594594594, name='Inner2')\n",
      "            Clade(branch_length=0.013513513513513542, name='Inner1')\n",
      "                Clade(branch_length=0.013513513513513487, name='h_tRNA-Thr-TGT-4-1')\n",
      "                Clade(branch_length=0.013513513513513487, name='h_tRNA-Thr-TGT-3-1')\n",
      "            Clade(branch_length=0.02702702702702703, name='h_tRNA-Thr-TGT-2-1')\n",
      "        Clade(branch_length=0.10092905405405406, name='Inner4')\n",
      "            Clade(branch_length=0.016891891891891886, name='Inner3')\n",
      "                Clade(branch_length=0.02702702702702703, name='h_tRNA-Thr-TGT-1-1')\n",
      "                Clade(branch_length=0.02702702702702703, name='h_tRNA-Thr-CGT-1-1')\n",
      "            Clade(branch_length=0.043918918918918914, name='h_tRNA-Thr-AGT-3-1')\n"
     ]
    }
   ],
   "source": [
    "print(tree)"
   ]
  },
  {
   "cell_type": "markdown",
   "metadata": {},
   "source": [
    "The module has a simple ascii method for representing the tree across the output window. "
   ]
  },
  {
   "cell_type": "code",
   "execution_count": 17,
   "metadata": {},
   "outputs": [
    {
     "name": "stdout",
     "output_type": "stream",
     "text": [
      "                                                      _____ h_tRNA-Thr-TGT-4-1\n",
      "                                                 ____|\n",
      "  ______________________________________________|    |_____ h_tRNA-Thr-TGT-3-1\n",
      " |                                              |\n",
      " |                                              |__________ h_tRNA-Thr-TGT-2-1\n",
      "_|\n",
      " |                                               __________ h_tRNA-Thr-TGT-1-1\n",
      " |                                        ______|\n",
      " |_______________________________________|      |__________ h_tRNA-Thr-CGT-1-1\n",
      "                                         |\n",
      "                                         |_________________ h_tRNA-Thr-AGT-3-1\n",
      "\n"
     ]
    }
   ],
   "source": [
    "Phylo.draw_ascii(tree)"
   ]
  },
  {
   "cell_type": "markdown",
   "metadata": {},
   "source": [
    "There is also a nicer graphic view available. "
   ]
  },
  {
   "cell_type": "code",
   "execution_count": 18,
   "metadata": {},
   "outputs": [
    {
     "data": {
      "image/png": "[encoded data removed]",
      "text/plain": [
       "<Figure size 432x288 with 1 Axes>"
      ]
     },
     "metadata": {
      "needs_background": "light"
     },
     "output_type": "display_data"
    }
   ],
   "source": [
    "Phylo.draw(tree)"
   ]
  },
  {
   "cell_type": "markdown",
   "metadata": {},
   "source": [
    "Looking at the anticodon labels for these tRNA groupings, do you notice anything interesting? "
   ]
  }
 ],
 "metadata": {
  "kernelspec": {
   "display_name": "Python 3",
   "language": "python",
   "name": "python3"
  },
  "language_info": {
   "codemirror_mode": {
    "name": "ipython",
    "version": 3
   },
   "file_extension": ".py",
   "mimetype": "text/x-python",
   "name": "python",
   "nbconvert_exporter": "python",
   "pygments_lexer": "ipython3",
   "version": "3.7.1"
  }
 },
 "nbformat": 4,
 "nbformat_minor": 2
}
